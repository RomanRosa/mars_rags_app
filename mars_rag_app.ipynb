{
 "cells": [
  {
   "cell_type": "markdown",
   "metadata": {},
   "source": [
    "### **Setting Up the Development Environment**"
   ]
  },
  {
   "cell_type": "markdown",
   "metadata": {},
   "source": [
    "#### Loading Required Data"
   ]
  },
  {
   "cell_type": "code",
   "execution_count": 8,
   "metadata": {},
   "outputs": [],
   "source": [
    "import openai\n",
    "import os\n",
    "from dotenv import load_dotenv, find_dotenv\n",
    "import pandas as pd\n",
    "pd.set_option('display.max_colwidth', None)\n",
    "\n",
    "from langchain.document_loaders.csv_loader import CSVLoader\n",
    "from langchain.text_splitter import RecursiveCharacterTextSplitter, CharacterTextSplitter\n",
    "from langchain.vectorstores import Chroma\n",
    "from langchain.embeddings.openai import OpenAIEmbeddings\n",
    "from langchain.chains import RetrievalQA\n",
    "from langchain.chat_models import ChatOpenAI\n",
    "\n",
    "import langchain\n",
    "langchain.verbose = True\n"
   ]
  },
  {
   "cell_type": "code",
   "execution_count": 9,
   "metadata": {},
   "outputs": [],
   "source": [
    "load_dotenv()\n",
    "openai.api_key = os.environ.get(\"OPENAI_API_KEY\")"
   ]
  },
  {
   "cell_type": "code",
   "execution_count": 10,
   "metadata": {},
   "outputs": [
    {
     "data": {
      "text/plain": [
       "(5006, 54)"
      ]
     },
     "execution_count": 10,
     "metadata": {},
     "output_type": "execute_result"
    }
   ],
   "source": [
    "file_name = r\"C:\\github_repos\\mars_question_answering_app_rags\\data\\MARS_Benchmark_Diciembre (1).csv\"\n",
    "try:\n",
    "    df = pd.read_csv(file_name, encoding='utf-8')\n",
    "except UnicodeDecodeError:\n",
    "    df = pd.read_csv(file_name, encoding='latin1')\n",
    "\n",
    "df.shape"
   ]
  },
  {
   "cell_type": "code",
   "execution_count": 11,
   "metadata": {},
   "outputs": [
    {
     "data": {
      "text/html": [
       "<div>\n",
       "<style scoped>\n",
       "    .dataframe tbody tr th:only-of-type {\n",
       "        vertical-align: middle;\n",
       "    }\n",
       "\n",
       "    .dataframe tbody tr th {\n",
       "        vertical-align: top;\n",
       "    }\n",
       "\n",
       "    .dataframe thead th {\n",
       "        text-align: right;\n",
       "    }\n",
       "</style>\n",
       "<table border=\"1\" class=\"dataframe\">\n",
       "  <thead>\n",
       "    <tr style=\"text-align: right;\">\n",
       "      <th></th>\n",
       "      <th>Id</th>\n",
       "      <th>Date</th>\n",
       "      <th>Time</th>\n",
       "      <th>Media Type</th>\n",
       "      <th>Site Name</th>\n",
       "      <th>Site Domain</th>\n",
       "      <th>Mention URL</th>\n",
       "      <th>Publisher Name</th>\n",
       "      <th>Publisher Username</th>\n",
       "      <th>title</th>\n",
       "      <th>...</th>\n",
       "      <th>Youtube Comments</th>\n",
       "      <th>Youtube Favorites</th>\n",
       "      <th>User Age</th>\n",
       "      <th>User Gender</th>\n",
       "      <th>User Family Status</th>\n",
       "      <th>User Marital Status</th>\n",
       "      <th>User Affinities</th>\n",
       "      <th>User Jobs</th>\n",
       "      <th>User biography tags</th>\n",
       "      <th>Media URL</th>\n",
       "    </tr>\n",
       "  </thead>\n",
       "  <tbody>\n",
       "    <tr>\n",
       "      <th>0</th>\n",
       "      <td>2.670000e+11</td>\n",
       "      <td>31/12/2023</td>\n",
       "      <td>22:58:00 -0600 CST</td>\n",
       "      <td>Social Media</td>\n",
       "      <td>Twitter</td>\n",
       "      <td>http://www.twitter.com</td>\n",
       "      <td>http://twitter.com/jfeyg7/status/1741685322897920364#1649664281242136576_1741665455285166431</td>\n",
       "      <td>jacky</td>\n",
       "      <td>jfeyg7</td>\n",
       "      <td>La @ARSL0V3R RT @yutaomega: me quiero follar al osito bimbo, sus deliciosas curvas me excitan demasiado, tanto que me hacen llegar al orgasmo de solo verlas, me gustaría darle unas fuertes nalgadas a sus blancas y suaves pompas joder me tienes demente ni puedo verte en el supermercado porque se me pone dura</td>\n",
       "      <td>...</td>\n",
       "      <td>NaN</td>\n",
       "      <td>NaN</td>\n",
       "      <td>NaN</td>\n",
       "      <td>NaN</td>\n",
       "      <td>NaN</td>\n",
       "      <td>NaN</td>\n",
       "      <td>NaN</td>\n",
       "      <td>NaN</td>\n",
       "      <td>NaN</td>\n",
       "      <td>NaN</td>\n",
       "    </tr>\n",
       "    <tr>\n",
       "      <th>1</th>\n",
       "      <td>2.670000e+11</td>\n",
       "      <td>31/12/2023</td>\n",
       "      <td>22:53:00 -0600 CST</td>\n",
       "      <td>Social Media</td>\n",
       "      <td>Twitter</td>\n",
       "      <td>http://www.twitter.com</td>\n",
       "      <td>http://twitter.com/ferconsciente/status/1741683980246610073#1367253737912336396_1741610337135186198</td>\n",
       "      <td>Ferconsciente</td>\n",
       "      <td>ferconsciente</td>\n",
       "      <td>RT @contralinea: LO MÁS LEÍDO | En México, el Poder Judicial de la Federación insiste en beneficiar a Bayer-Monsanto con permitir la introducción masiva del carcinógeno #glifosato al país #Contralínea #PeriodismodeInvestigación https://contralinea.com.mx/interno/semana/tribunal-insiste-en-aprobar-el-glifosato-y-tirar-decreto-presidencial/?fbclid=IwAR0vW67EZE5-g6TkA94_k0zg2d43U7KlpX_XxI3eJy6E-iUZylvZVgC537o</td>\n",
       "      <td>...</td>\n",
       "      <td>NaN</td>\n",
       "      <td>NaN</td>\n",
       "      <td>NaN</td>\n",
       "      <td>NaN</td>\n",
       "      <td>NaN</td>\n",
       "      <td>NaN</td>\n",
       "      <td>NaN</td>\n",
       "      <td>NaN</td>\n",
       "      <td>NaN</td>\n",
       "      <td>NaN</td>\n",
       "    </tr>\n",
       "    <tr>\n",
       "      <th>2</th>\n",
       "      <td>2.670000e+11</td>\n",
       "      <td>31/12/2023</td>\n",
       "      <td>22:53:00 -0600 CST</td>\n",
       "      <td>Social Media</td>\n",
       "      <td>Twitter</td>\n",
       "      <td>http://www.twitter.com</td>\n",
       "      <td>http://twitter.com/joeg51287877/status/1741683934164107384#1272068416594014208_1741610337135186198</td>\n",
       "      <td>joeg</td>\n",
       "      <td>joeg51287877</td>\n",
       "      <td>RT @contralinea: LO MÁS LEÍDO | En México, el Poder Judicial de la Federación insiste en beneficiar a Bayer-Monsanto con permitir la introducción masiva del carcinógeno #glifosato al país #Contralínea #PeriodismodeInvestigación https://contralinea.com.mx/interno/semana/tribunal-insiste-en-aprobar-el-glifosato-y-tirar-decreto-presidencial/?fbclid=IwAR0vW67EZE5-g6TkA94_k0zg2d43U7KlpX_XxI3eJy6E-iUZylvZVgC537o</td>\n",
       "      <td>...</td>\n",
       "      <td>NaN</td>\n",
       "      <td>NaN</td>\n",
       "      <td>NaN</td>\n",
       "      <td>NaN</td>\n",
       "      <td>NaN</td>\n",
       "      <td>NaN</td>\n",
       "      <td>NaN</td>\n",
       "      <td>NaN</td>\n",
       "      <td>NaN</td>\n",
       "      <td>NaN</td>\n",
       "    </tr>\n",
       "    <tr>\n",
       "      <th>3</th>\n",
       "      <td>2.670000e+11</td>\n",
       "      <td>31/12/2023</td>\n",
       "      <td>22:49:00 -0600 CST</td>\n",
       "      <td>Social Media</td>\n",
       "      <td>Twitter</td>\n",
       "      <td>http://www.twitter.com</td>\n",
       "      <td>http://twitter.com/DeivSol0/status/1741683033193820525#1537965259863887873_1741610337135186198</td>\n",
       "      <td>David ?4T</td>\n",
       "      <td>DeivSol0</td>\n",
       "      <td>RT @contralinea: LO MÁS LEÍDO | En México, el Poder Judicial de la Federación insiste en beneficiar a Bayer-Monsanto con permitir la introducción masiva del carcinógeno #glifosato al país #Contralínea #PeriodismodeInvestigación https://contralinea.com.mx/interno/semana/tribunal-insiste-en-aprobar-el-glifosato-y-tirar-decreto-presidencial/?fbclid=IwAR0vW67EZE5-g6TkA94_k0zg2d43U7KlpX_XxI3eJy6E-iUZylvZVgC537o</td>\n",
       "      <td>...</td>\n",
       "      <td>NaN</td>\n",
       "      <td>NaN</td>\n",
       "      <td>NaN</td>\n",
       "      <td>NaN</td>\n",
       "      <td>NaN</td>\n",
       "      <td>NaN</td>\n",
       "      <td>NaN</td>\n",
       "      <td>NaN</td>\n",
       "      <td>NaN</td>\n",
       "      <td>NaN</td>\n",
       "    </tr>\n",
       "    <tr>\n",
       "      <th>4</th>\n",
       "      <td>2.670000e+11</td>\n",
       "      <td>31/12/2023</td>\n",
       "      <td>22:49:00 -0600 CST</td>\n",
       "      <td>Social Media</td>\n",
       "      <td>Twitter</td>\n",
       "      <td>http://www.twitter.com</td>\n",
       "      <td>http://twitter.com/ALFREDOGARCIASA/status/1741682952734482498#92381621_1741610337135186198</td>\n",
       "      <td>ALFREDO GARCIA S. #RedAMLOVE</td>\n",
       "      <td>ALFREDOGARCIASA</td>\n",
       "      <td>RT @contralinea: LO MÁS LEÍDO | En México, el Poder Judicial de la Federación insiste en beneficiar a Bayer-Monsanto con permitir la introducción masiva del carcinógeno #glifosato al país #Contralínea #PeriodismodeInvestigación https://contralinea.com.mx/interno/semana/tribunal-insiste-en-aprobar-el-glifosato-y-tirar-decreto-presidencial/?fbclid=IwAR0vW67EZE5-g6TkA94_k0zg2d43U7KlpX_XxI3eJy6E-iUZylvZVgC537o</td>\n",
       "      <td>...</td>\n",
       "      <td>NaN</td>\n",
       "      <td>NaN</td>\n",
       "      <td>NaN</td>\n",
       "      <td>NaN</td>\n",
       "      <td>NaN</td>\n",
       "      <td>NaN</td>\n",
       "      <td>NaN</td>\n",
       "      <td>NaN</td>\n",
       "      <td>NaN</td>\n",
       "      <td>NaN</td>\n",
       "    </tr>\n",
       "  </tbody>\n",
       "</table>\n",
       "<p>5 rows × 54 columns</p>\n",
       "</div>"
      ],
      "text/plain": [
       "             Id        Date                Time    Media Type Site Name  \\\n",
       "0  2.670000e+11  31/12/2023  22:58:00 -0600 CST  Social Media   Twitter   \n",
       "1  2.670000e+11  31/12/2023  22:53:00 -0600 CST  Social Media   Twitter   \n",
       "2  2.670000e+11  31/12/2023  22:53:00 -0600 CST  Social Media   Twitter   \n",
       "3  2.670000e+11  31/12/2023  22:49:00 -0600 CST  Social Media   Twitter   \n",
       "4  2.670000e+11  31/12/2023  22:49:00 -0600 CST  Social Media   Twitter   \n",
       "\n",
       "              Site Domain  \\\n",
       "0  http://www.twitter.com   \n",
       "1  http://www.twitter.com   \n",
       "2  http://www.twitter.com   \n",
       "3  http://www.twitter.com   \n",
       "4  http://www.twitter.com   \n",
       "\n",
       "                                                                                           Mention URL  \\\n",
       "0         http://twitter.com/jfeyg7/status/1741685322897920364#1649664281242136576_1741665455285166431   \n",
       "1  http://twitter.com/ferconsciente/status/1741683980246610073#1367253737912336396_1741610337135186198   \n",
       "2   http://twitter.com/joeg51287877/status/1741683934164107384#1272068416594014208_1741610337135186198   \n",
       "3       http://twitter.com/DeivSol0/status/1741683033193820525#1537965259863887873_1741610337135186198   \n",
       "4           http://twitter.com/ALFREDOGARCIASA/status/1741682952734482498#92381621_1741610337135186198   \n",
       "\n",
       "                 Publisher Name Publisher Username  \\\n",
       "0                         jacky             jfeyg7   \n",
       "1                 Ferconsciente      ferconsciente   \n",
       "2                          joeg       joeg51287877   \n",
       "3                     David ?4T           DeivSol0   \n",
       "4  ALFREDO GARCIA S. #RedAMLOVE    ALFREDOGARCIASA   \n",
       "\n",
       "                                                                                                                                                                                                                                                                                                                                                                                                                       title  \\\n",
       "0                                                                                                       La @ARSL0V3R RT @yutaomega: me quiero follar al osito bimbo, sus deliciosas curvas me excitan demasiado, tanto que me hacen llegar al orgasmo de solo verlas, me gustaría darle unas fuertes nalgadas a sus blancas y suaves pompas joder me tienes demente ni puedo verte en el supermercado porque se me pone dura   \n",
       "1  RT @contralinea: LO MÁS LEÍDO | En México, el Poder Judicial de la Federación insiste en beneficiar a Bayer-Monsanto con permitir la introducción masiva del carcinógeno #glifosato al país #Contralínea #PeriodismodeInvestigación https://contralinea.com.mx/interno/semana/tribunal-insiste-en-aprobar-el-glifosato-y-tirar-decreto-presidencial/?fbclid=IwAR0vW67EZE5-g6TkA94_k0zg2d43U7KlpX_XxI3eJy6E-iUZylvZVgC537o   \n",
       "2  RT @contralinea: LO MÁS LEÍDO | En México, el Poder Judicial de la Federación insiste en beneficiar a Bayer-Monsanto con permitir la introducción masiva del carcinógeno #glifosato al país #Contralínea #PeriodismodeInvestigación https://contralinea.com.mx/interno/semana/tribunal-insiste-en-aprobar-el-glifosato-y-tirar-decreto-presidencial/?fbclid=IwAR0vW67EZE5-g6TkA94_k0zg2d43U7KlpX_XxI3eJy6E-iUZylvZVgC537o   \n",
       "3  RT @contralinea: LO MÁS LEÍDO | En México, el Poder Judicial de la Federación insiste en beneficiar a Bayer-Monsanto con permitir la introducción masiva del carcinógeno #glifosato al país #Contralínea #PeriodismodeInvestigación https://contralinea.com.mx/interno/semana/tribunal-insiste-en-aprobar-el-glifosato-y-tirar-decreto-presidencial/?fbclid=IwAR0vW67EZE5-g6TkA94_k0zg2d43U7KlpX_XxI3eJy6E-iUZylvZVgC537o   \n",
       "4  RT @contralinea: LO MÁS LEÍDO | En México, el Poder Judicial de la Federación insiste en beneficiar a Bayer-Monsanto con permitir la introducción masiva del carcinógeno #glifosato al país #Contralínea #PeriodismodeInvestigación https://contralinea.com.mx/interno/semana/tribunal-insiste-en-aprobar-el-glifosato-y-tirar-decreto-presidencial/?fbclid=IwAR0vW67EZE5-g6TkA94_k0zg2d43U7KlpX_XxI3eJy6E-iUZylvZVgC537o   \n",
       "\n",
       "   ... Youtube Comments Youtube Favorites User Age User Gender  \\\n",
       "0  ...              NaN               NaN      NaN         NaN   \n",
       "1  ...              NaN               NaN      NaN         NaN   \n",
       "2  ...              NaN               NaN      NaN         NaN   \n",
       "3  ...              NaN               NaN      NaN         NaN   \n",
       "4  ...              NaN               NaN      NaN         NaN   \n",
       "\n",
       "   User Family Status  User Marital Status User Affinities  User Jobs  \\\n",
       "0                 NaN                  NaN             NaN        NaN   \n",
       "1                 NaN                  NaN             NaN        NaN   \n",
       "2                 NaN                  NaN             NaN        NaN   \n",
       "3                 NaN                  NaN             NaN        NaN   \n",
       "4                 NaN                  NaN             NaN        NaN   \n",
       "\n",
       "  User biography tags Media URL  \n",
       "0                 NaN       NaN  \n",
       "1                 NaN       NaN  \n",
       "2                 NaN       NaN  \n",
       "3                 NaN       NaN  \n",
       "4                 NaN       NaN  \n",
       "\n",
       "[5 rows x 54 columns]"
      ]
     },
     "execution_count": 11,
     "metadata": {},
     "output_type": "execute_result"
    }
   ],
   "source": [
    "df.head()"
   ]
  },
  {
   "cell_type": "markdown",
   "metadata": {},
   "source": [
    "### Load a CSV file into a list of Documents\n",
    "\n",
    "Each document represents one row of the CSV file. Every row is converted into a key/value pair and outputted to a new line in the document’s page_content."
   ]
  },
  {
   "cell_type": "code",
   "execution_count": 15,
   "metadata": {},
   "outputs": [],
   "source": [
    "loader = CSVLoader(file_path=file_name, encoding='latin1')\n",
    "\n",
    "try:\n",
    "    docs = loader.load()\n",
    "except UnicodeDecodeError:\n",
    "\n",
    "    loader = CSVLoader(file_path=file_name, encoding='ISO-8859-1')\n",
    "    docs = loader.load()"
   ]
  },
  {
   "cell_type": "code",
   "execution_count": 16,
   "metadata": {},
   "outputs": [
    {
     "data": {
      "text/plain": [
       "5006"
      ]
     },
     "execution_count": 16,
     "metadata": {},
     "output_type": "execute_result"
    }
   ],
   "source": [
    "len(docs)"
   ]
  },
  {
   "cell_type": "code",
   "execution_count": 17,
   "metadata": {},
   "outputs": [
    {
     "name": "stdout",
     "output_type": "stream",
     "text": [
      "ï»¿Id: 2.67E+11\n",
      "Date: 31/12/2023\n",
      "Time: 22:58:00 -0600 CST\n",
      "Media Type: Social Media\n",
      "Site Name: Twitter\n",
      "Site Domain: http://www.twitter.com\n",
      "Mention URL: http://twitter.com/jfeyg7/status/1741685322897920364#1649664281242136576_1741665455285166431\n",
      "Publisher Name: jacky\n",
      "Publisher Username: jfeyg7\n",
      "title: La @ARSL0V3R RT @yutaomega: me quiero follar al osito bimbo, sus deliciosas curvas me excitan demasiado, tanto que me hacen llegar al orgasmo de solo verlas, me gustarÃ­a darle unas fuertes nalgadas a\n"
     ]
    }
   ],
   "source": [
    "print(docs[0].page_content[:500])"
   ]
  },
  {
   "cell_type": "markdown",
   "metadata": {},
   "source": [
    "### Split Documents"
   ]
  },
  {
   "cell_type": "code",
   "execution_count": 19,
   "metadata": {},
   "outputs": [],
   "source": [
    "chunk_size = 512 # chunk_size can be modified between 512, 558 until 1236 which belongs to OpenAIEmbeddings (however I recommend 512)\n",
    "#chunk_size = 558\n",
    "chunk_overlap = 32\n",
    "\n",
    "c_text_splitter = CharacterTextSplitter(\n",
    "    separator=\"\\n\",\n",
    "    chunk_size=chunk_size,\n",
    "    chunk_overlap=chunk_overlap,\n",
    "    length_function=len\n",
    ")\n",
    "\n",
    "r_text_splitter = RecursiveCharacterTextSplitter(\n",
    "    chunk_size = chunk_size,\n",
    "    chunk_overlap  = chunk_overlap,\n",
    "    length_function = len,\n",
    "    add_start_index = True,\n",
    ")"
   ]
  },
  {
   "cell_type": "code",
   "execution_count": 20,
   "metadata": {},
   "outputs": [
    {
     "name": "stderr",
     "output_type": "stream",
     "text": [
      "Created a chunk of size 568, which is longer than the specified 512\n",
      "Created a chunk of size 578, which is longer than the specified 512\n",
      "Created a chunk of size 566, which is longer than the specified 512\n",
      "Created a chunk of size 576, which is longer than the specified 512\n",
      "Created a chunk of size 536, which is longer than the specified 512\n",
      "Created a chunk of size 557, which is longer than the specified 512\n",
      "Created a chunk of size 567, which is longer than the specified 512\n",
      "Created a chunk of size 529, which is longer than the specified 512\n",
      "Created a chunk of size 539, which is longer than the specified 512\n",
      "Created a chunk of size 522, which is longer than the specified 512\n",
      "Created a chunk of size 532, which is longer than the specified 512\n",
      "Created a chunk of size 533, which is longer than the specified 512\n",
      "Created a chunk of size 543, which is longer than the specified 512\n",
      "Created a chunk of size 774, which is longer than the specified 512\n",
      "Created a chunk of size 639, which is longer than the specified 512\n",
      "Created a chunk of size 652, which is longer than the specified 512\n",
      "Created a chunk of size 626, which is longer than the specified 512\n",
      "Created a chunk of size 829, which is longer than the specified 512\n",
      "Created a chunk of size 839, which is longer than the specified 512\n",
      "Created a chunk of size 618, which is longer than the specified 512\n",
      "Created a chunk of size 628, which is longer than the specified 512\n",
      "Created a chunk of size 546, which is longer than the specified 512\n",
      "Created a chunk of size 556, which is longer than the specified 512\n",
      "Created a chunk of size 620, which is longer than the specified 512\n",
      "Created a chunk of size 630, which is longer than the specified 512\n",
      "Created a chunk of size 996, which is longer than the specified 512\n",
      "Created a chunk of size 545, which is longer than the specified 512\n",
      "Created a chunk of size 555, which is longer than the specified 512\n",
      "Created a chunk of size 588, which is longer than the specified 512\n",
      "Created a chunk of size 598, which is longer than the specified 512\n",
      "Created a chunk of size 580, which is longer than the specified 512\n",
      "Created a chunk of size 590, which is longer than the specified 512\n",
      "Created a chunk of size 545, which is longer than the specified 512\n",
      "Created a chunk of size 555, which is longer than the specified 512\n",
      "Created a chunk of size 597, which is longer than the specified 512\n",
      "Created a chunk of size 607, which is longer than the specified 512\n",
      "Created a chunk of size 524, which is longer than the specified 512\n",
      "Created a chunk of size 551, which is longer than the specified 512\n",
      "Created a chunk of size 561, which is longer than the specified 512\n",
      "Created a chunk of size 1071, which is longer than the specified 512\n",
      "Created a chunk of size 588, which is longer than the specified 512\n",
      "Created a chunk of size 598, which is longer than the specified 512\n",
      "Created a chunk of size 640, which is longer than the specified 512\n",
      "Created a chunk of size 650, which is longer than the specified 512\n",
      "Created a chunk of size 573, which is longer than the specified 512\n",
      "Created a chunk of size 583, which is longer than the specified 512\n",
      "Created a chunk of size 522, which is longer than the specified 512\n",
      "Created a chunk of size 535, which is longer than the specified 512\n",
      "Created a chunk of size 545, which is longer than the specified 512\n",
      "Created a chunk of size 555, which is longer than the specified 512\n",
      "Created a chunk of size 629, which is longer than the specified 512\n",
      "Created a chunk of size 972, which is longer than the specified 512\n",
      "Created a chunk of size 518, which is longer than the specified 512\n",
      "Created a chunk of size 528, which is longer than the specified 512\n",
      "Created a chunk of size 575, which is longer than the specified 512\n",
      "Created a chunk of size 585, which is longer than the specified 512\n",
      "Created a chunk of size 608, which is longer than the specified 512\n",
      "Created a chunk of size 588, which is longer than the specified 512\n",
      "Created a chunk of size 598, which is longer than the specified 512\n",
      "Created a chunk of size 1543, which is longer than the specified 512\n",
      "Created a chunk of size 547, which is longer than the specified 512\n",
      "Created a chunk of size 557, which is longer than the specified 512\n",
      "Created a chunk of size 680, which is longer than the specified 512\n",
      "Created a chunk of size 548, which is longer than the specified 512\n",
      "Created a chunk of size 558, which is longer than the specified 512\n",
      "Created a chunk of size 588, which is longer than the specified 512\n",
      "Created a chunk of size 598, which is longer than the specified 512\n",
      "Created a chunk of size 570, which is longer than the specified 512\n",
      "Created a chunk of size 580, which is longer than the specified 512\n",
      "Created a chunk of size 1045, which is longer than the specified 512\n",
      "Created a chunk of size 573, which is longer than the specified 512\n",
      "Created a chunk of size 583, which is longer than the specified 512\n",
      "Created a chunk of size 617, which is longer than the specified 512\n",
      "Created a chunk of size 627, which is longer than the specified 512\n",
      "Created a chunk of size 2099, which is longer than the specified 512\n",
      "Created a chunk of size 575, which is longer than the specified 512\n",
      "Created a chunk of size 585, which is longer than the specified 512\n",
      "Created a chunk of size 1869, which is longer than the specified 512\n",
      "Created a chunk of size 632, which is longer than the specified 512\n",
      "Created a chunk of size 642, which is longer than the specified 512\n",
      "Created a chunk of size 755, which is longer than the specified 512\n",
      "Created a chunk of size 1126, which is longer than the specified 512\n",
      "Created a chunk of size 588, which is longer than the specified 512\n",
      "Created a chunk of size 598, which is longer than the specified 512\n",
      "Created a chunk of size 575, which is longer than the specified 512\n",
      "Created a chunk of size 585, which is longer than the specified 512\n",
      "Created a chunk of size 1562, which is longer than the specified 512\n",
      "Created a chunk of size 591, which is longer than the specified 512\n",
      "Created a chunk of size 571, which is longer than the specified 512\n",
      "Created a chunk of size 581, which is longer than the specified 512\n",
      "Created a chunk of size 571, which is longer than the specified 512\n",
      "Created a chunk of size 581, which is longer than the specified 512\n",
      "Created a chunk of size 1484, which is longer than the specified 512\n",
      "Created a chunk of size 532, which is longer than the specified 512\n",
      "Created a chunk of size 528, which is longer than the specified 512\n",
      "Created a chunk of size 597, which is longer than the specified 512\n",
      "Created a chunk of size 607, which is longer than the specified 512\n",
      "Created a chunk of size 611, which is longer than the specified 512\n",
      "Created a chunk of size 621, which is longer than the specified 512\n",
      "Created a chunk of size 565, which is longer than the specified 512\n",
      "Created a chunk of size 575, which is longer than the specified 512\n",
      "Created a chunk of size 1281, which is longer than the specified 512\n",
      "Created a chunk of size 530, which is longer than the specified 512\n",
      "Created a chunk of size 540, which is longer than the specified 512\n",
      "Created a chunk of size 922, which is longer than the specified 512\n",
      "Created a chunk of size 932, which is longer than the specified 512\n",
      "Created a chunk of size 745, which is longer than the specified 512\n",
      "Created a chunk of size 583, which is longer than the specified 512\n",
      "Created a chunk of size 593, which is longer than the specified 512\n",
      "Created a chunk of size 548, which is longer than the specified 512\n",
      "Created a chunk of size 575, which is longer than the specified 512\n",
      "Created a chunk of size 585, which is longer than the specified 512\n",
      "Created a chunk of size 575, which is longer than the specified 512\n",
      "Created a chunk of size 585, which is longer than the specified 512\n",
      "Created a chunk of size 575, which is longer than the specified 512\n",
      "Created a chunk of size 585, which is longer than the specified 512\n",
      "Created a chunk of size 575, which is longer than the specified 512\n",
      "Created a chunk of size 585, which is longer than the specified 512\n",
      "Created a chunk of size 716, which is longer than the specified 512\n",
      "Created a chunk of size 571, which is longer than the specified 512\n",
      "Created a chunk of size 581, which is longer than the specified 512\n",
      "Created a chunk of size 596, which is longer than the specified 512\n",
      "Created a chunk of size 606, which is longer than the specified 512\n",
      "Created a chunk of size 575, which is longer than the specified 512\n",
      "Created a chunk of size 585, which is longer than the specified 512\n",
      "Created a chunk of size 908, which is longer than the specified 512\n",
      "Created a chunk of size 691, which is longer than the specified 512\n",
      "Created a chunk of size 701, which is longer than the specified 512\n",
      "Created a chunk of size 520, which is longer than the specified 512\n",
      "Created a chunk of size 530, which is longer than the specified 512\n",
      "Created a chunk of size 520, which is longer than the specified 512\n",
      "Created a chunk of size 530, which is longer than the specified 512\n",
      "Created a chunk of size 575, which is longer than the specified 512\n",
      "Created a chunk of size 585, which is longer than the specified 512\n",
      "Created a chunk of size 571, which is longer than the specified 512\n",
      "Created a chunk of size 581, which is longer than the specified 512\n",
      "Created a chunk of size 527, which is longer than the specified 512\n",
      "Created a chunk of size 537, which is longer than the specified 512\n",
      "Created a chunk of size 555, which is longer than the specified 512\n",
      "Created a chunk of size 565, which is longer than the specified 512\n",
      "Created a chunk of size 575, which is longer than the specified 512\n",
      "Created a chunk of size 585, which is longer than the specified 512\n",
      "Created a chunk of size 575, which is longer than the specified 512\n",
      "Created a chunk of size 585, which is longer than the specified 512\n",
      "Created a chunk of size 575, which is longer than the specified 512\n",
      "Created a chunk of size 585, which is longer than the specified 512\n",
      "Created a chunk of size 575, which is longer than the specified 512\n",
      "Created a chunk of size 585, which is longer than the specified 512\n",
      "Created a chunk of size 575, which is longer than the specified 512\n",
      "Created a chunk of size 585, which is longer than the specified 512\n",
      "Created a chunk of size 575, which is longer than the specified 512\n",
      "Created a chunk of size 585, which is longer than the specified 512\n",
      "Created a chunk of size 575, which is longer than the specified 512\n",
      "Created a chunk of size 585, which is longer than the specified 512\n",
      "Created a chunk of size 575, which is longer than the specified 512\n",
      "Created a chunk of size 585, which is longer than the specified 512\n",
      "Created a chunk of size 575, which is longer than the specified 512\n",
      "Created a chunk of size 585, which is longer than the specified 512\n",
      "Created a chunk of size 642, which is longer than the specified 512\n",
      "Created a chunk of size 652, which is longer than the specified 512\n",
      "Created a chunk of size 725, which is longer than the specified 512\n",
      "Created a chunk of size 735, which is longer than the specified 512\n",
      "Created a chunk of size 520, which is longer than the specified 512\n",
      "Created a chunk of size 600, which is longer than the specified 512\n",
      "Created a chunk of size 610, which is longer than the specified 512\n",
      "Created a chunk of size 527, which is longer than the specified 512\n",
      "Created a chunk of size 537, which is longer than the specified 512\n",
      "Created a chunk of size 665, which is longer than the specified 512\n",
      "Created a chunk of size 675, which is longer than the specified 512\n",
      "Created a chunk of size 1339, which is longer than the specified 512\n",
      "Created a chunk of size 526, which is longer than the specified 512\n",
      "Created a chunk of size 536, which is longer than the specified 512\n",
      "Created a chunk of size 620, which is longer than the specified 512\n",
      "Created a chunk of size 630, which is longer than the specified 512\n",
      "Created a chunk of size 608, which is longer than the specified 512\n",
      "Created a chunk of size 618, which is longer than the specified 512\n",
      "Created a chunk of size 567, which is longer than the specified 512\n",
      "Created a chunk of size 577, which is longer than the specified 512\n",
      "Created a chunk of size 625, which is longer than the specified 512\n",
      "Created a chunk of size 635, which is longer than the specified 512\n",
      "Created a chunk of size 575, which is longer than the specified 512\n",
      "Created a chunk of size 585, which is longer than the specified 512\n",
      "Created a chunk of size 704, which is longer than the specified 512\n",
      "Created a chunk of size 714, which is longer than the specified 512\n",
      "Created a chunk of size 577, which is longer than the specified 512\n",
      "Created a chunk of size 587, which is longer than the specified 512\n",
      "Created a chunk of size 684, which is longer than the specified 512\n",
      "Created a chunk of size 694, which is longer than the specified 512\n",
      "Created a chunk of size 521, which is longer than the specified 512\n",
      "Created a chunk of size 553, which is longer than the specified 512\n",
      "Created a chunk of size 563, which is longer than the specified 512\n",
      "Created a chunk of size 714, which is longer than the specified 512\n",
      "Created a chunk of size 724, which is longer than the specified 512\n",
      "Created a chunk of size 580, which is longer than the specified 512\n",
      "Created a chunk of size 590, which is longer than the specified 512\n",
      "Created a chunk of size 573, which is longer than the specified 512\n",
      "Created a chunk of size 583, which is longer than the specified 512\n",
      "Created a chunk of size 584, which is longer than the specified 512\n",
      "Created a chunk of size 594, which is longer than the specified 512\n",
      "Created a chunk of size 589, which is longer than the specified 512\n",
      "Created a chunk of size 599, which is longer than the specified 512\n",
      "Created a chunk of size 540, which is longer than the specified 512\n",
      "Created a chunk of size 550, which is longer than the specified 512\n",
      "Created a chunk of size 630, which is longer than the specified 512\n",
      "Created a chunk of size 640, which is longer than the specified 512\n",
      "Created a chunk of size 578, which is longer than the specified 512\n",
      "Created a chunk of size 588, which is longer than the specified 512\n",
      "Created a chunk of size 529, which is longer than the specified 512\n",
      "Created a chunk of size 539, which is longer than the specified 512\n",
      "Created a chunk of size 566, which is longer than the specified 512\n",
      "Created a chunk of size 576, which is longer than the specified 512\n",
      "Created a chunk of size 579, which is longer than the specified 512\n",
      "Created a chunk of size 589, which is longer than the specified 512\n",
      "Created a chunk of size 769, which is longer than the specified 512\n",
      "Created a chunk of size 607, which is longer than the specified 512\n",
      "Created a chunk of size 617, which is longer than the specified 512\n"
     ]
    },
    {
     "name": "stdout",
     "output_type": "stream",
     "text": [
      "page_content='ï»¿Id: 2.67E+11\\nDate: 31/12/2023\\nTime: 22:58:00 -0600 CST\\nMedia Type: Social Media\\nSite Name: Twitter\\nSite Domain: http://www.twitter.com\\nMention URL: http://twitter.com/jfeyg7/status/1741685322897920364#1649664281242136576_1741665455285166431\\nPublisher Name: jacky\\nPublisher Username: jfeyg7' metadata={'source': 'C:\\\\github_repos\\\\mars_question_answering_app_rags\\\\data\\\\MARS_Benchmark_Diciembre (1).csv', 'row': 0}\n",
      "page_content='Publisher Username: jfeyg7\\ntitle: La @ARSL0V3R RT @yutaomega: me quiero follar al osito bimbo, sus deliciosas curvas me excitan demasiado, tanto que me hacen llegar al orgasmo de solo verlas, me gustarÃ\\xada darle unas fuertes nalgadas a sus blancas y suaves pompas joder me tienes demente ni puedo verte en el supermercado porque se me pone dura' metadata={'source': 'C:\\\\github_repos\\\\mars_question_answering_app_rags\\\\data\\\\MARS_Benchmark_Diciembre (1).csv', 'row': 0}\n"
     ]
    }
   ],
   "source": [
    "pages = c_text_splitter.split_documents(docs)\n",
    "\n",
    "print(pages[0])\n",
    "print(pages[1])"
   ]
  },
  {
   "cell_type": "code",
   "execution_count": 21,
   "metadata": {},
   "outputs": [
    {
     "name": "stdout",
     "output_type": "stream",
     "text": [
      "page_content='ï»¿Id: 2.67E+11\\nDate: 31/12/2023\\nTime: 22:58:00 -0600 CST\\nMedia Type: Social Media\\nSite Name: Twitter\\nSite Domain: http://www.twitter.com\\nMention URL: http://twitter.com/jfeyg7/status/1741685322897920364#1649664281242136576_1741665455285166431\\nPublisher Name: jacky\\nPublisher Username: jfeyg7' metadata={'source': 'C:\\\\github_repos\\\\mars_question_answering_app_rags\\\\data\\\\MARS_Benchmark_Diciembre (1).csv', 'row': 0, 'start_index': 0}\n",
      "page_content='Publisher Username: jfeyg7\\ntitle: La @ARSL0V3R RT @yutaomega: me quiero follar al osito bimbo, sus deliciosas curvas me excitan demasiado, tanto que me hacen llegar al orgasmo de solo verlas, me gustarÃ\\xada darle unas fuertes nalgadas a sus blancas y suaves pompas joder me tienes demente ni puedo verte en el supermercado porque se me pone dura' metadata={'source': 'C:\\\\github_repos\\\\mars_question_answering_app_rags\\\\data\\\\MARS_Benchmark_Diciembre (1).csv', 'row': 0, 'start_index': 266}\n"
     ]
    }
   ],
   "source": [
    "pages = r_text_splitter.split_documents(docs)\n",
    "\n",
    "print(pages[0])\n",
    "print(pages[1])"
   ]
  },
  {
   "cell_type": "code",
   "execution_count": 22,
   "metadata": {},
   "outputs": [
    {
     "data": {
      "text/plain": [
       "5006"
      ]
     },
     "execution_count": 22,
     "metadata": {},
     "output_type": "execute_result"
    }
   ],
   "source": [
    "len(docs)"
   ]
  },
  {
   "cell_type": "code",
   "execution_count": 23,
   "metadata": {},
   "outputs": [
    {
     "data": {
      "text/plain": [
       "21091"
      ]
     },
     "execution_count": 23,
     "metadata": {},
     "output_type": "execute_result"
    }
   ],
   "source": [
    "len(pages)"
   ]
  },
  {
   "cell_type": "markdown",
   "metadata": {},
   "source": [
    "## Vectorstore and Embeddings"
   ]
  },
  {
   "cell_type": "code",
   "execution_count": 24,
   "metadata": {},
   "outputs": [
    {
     "name": "stderr",
     "output_type": "stream",
     "text": [
      "c:\\anaconda3\\envs\\mars\\lib\\site-packages\\langchain_core\\_api\\deprecation.py:117: LangChainDeprecationWarning: The class `langchain_community.embeddings.openai.OpenAIEmbeddings` was deprecated in langchain-community 0.1.0 and will be removed in 0.2.0. An updated version of the class exists in the langchain-openai package and should be used instead. To use it run `pip install -U langchain-openai` and import as `from langchain_openai import OpenAIEmbeddings`.\n",
      "  warn_deprecated(\n"
     ]
    }
   ],
   "source": [
    "embedding = OpenAIEmbeddings()"
   ]
  },
  {
   "cell_type": "code",
   "execution_count": 25,
   "metadata": {},
   "outputs": [],
   "source": [
    "persist_directory = 'persist_chroma'"
   ]
  },
  {
   "cell_type": "code",
   "execution_count": 26,
   "metadata": {},
   "outputs": [],
   "source": [
    "vectordb = Chroma.from_documents(\n",
    "    documents=pages,\n",
    "    embedding=embedding,\n",
    "    persist_directory=persist_directory\n",
    ")"
   ]
  },
  {
   "cell_type": "code",
   "execution_count": 27,
   "metadata": {},
   "outputs": [
    {
     "name": "stdout",
     "output_type": "stream",
     "text": [
      "21091\n"
     ]
    }
   ],
   "source": [
    "print(vectordb._collection.count())"
   ]
  },
  {
   "cell_type": "code",
   "execution_count": 28,
   "metadata": {},
   "outputs": [
    {
     "data": {
      "text/plain": [
       "21091"
      ]
     },
     "execution_count": 28,
     "metadata": {},
     "output_type": "execute_result"
    }
   ],
   "source": [
    "len(pages)"
   ]
  },
  {
   "cell_type": "code",
   "execution_count": 29,
   "metadata": {},
   "outputs": [],
   "source": [
    "vectordb.persist()"
   ]
  },
  {
   "cell_type": "markdown",
   "metadata": {},
   "source": [
    "As good as the Prompt is, so will be the result.\n",
    "Prompt Techniques Also Must Be Considered:\n",
    "- Direct Instruction.\n",
    "- Open-Ended Questions.\n",
    "- Multiple-Choice Questions.\n",
    "- Leading Questions.\n",
    "- Hypothetical Scenarios.\n",
    "- Sequential or Step-by-Step Prompts.\n",
    "- Reflective Questions.\n",
    "- Comparative Analysis.\n",
    "- Analogies or Metaphors.\n",
    "- Requesting Examples or Illustrations.\n",
    "- Elaboration Requests."
   ]
  },
  {
   "cell_type": "code",
   "execution_count": 30,
   "metadata": {},
   "outputs": [],
   "source": [
    "# Example 1\n",
    "question = \"Explicame que se dice sobre Bayer-Monsanto?\""
   ]
  },
  {
   "cell_type": "code",
   "execution_count": 31,
   "metadata": {},
   "outputs": [
    {
     "data": {
      "text/plain": [
       "[Document(page_content='Mention Content: @SCJN SIEMPRE A FAVOR DE EMPRESAS EXTRANJERAS https://x.com/contralinea/status/1741610337135186198?s=20 RT @contralinea: LO MÃ\\x81S LEÃ\\x8dDO | En MÃ©xico, el Poder Judicial de la FederaciÃ³n insiste en beneficiar a Bayer-Monsanto con permitir la introducciÃ³n masiva del carcinÃ³geno #glifosato al paÃ\\xads #ContralÃ\\xadnea #PeriodismodeInvestigaciÃ³n', metadata={'row': 293, 'source': 'C:\\\\github_repos\\\\mars_question_answering_app_rags\\\\data\\\\MARS_Benchmark_Diciembre (1).csv', 'start_index': 854}),\n",
       " Document(page_content='title: RT @contralinea: LO MÃ\\x81S LEÃ\\x8dDO | En MÃ©xico, el Poder Judicial de la FederaciÃ³n insiste en beneficiar a Bayer-Monsanto con permitir la introducciÃ³n masiva del carcinÃ³geno #glifosato al paÃ\\xads #ContralÃ\\xadnea #PeriodismodeInvestigaciÃ³n https://contralinea.com.mx/interno/semana/tribunal-insiste-en-aprobar-el-glifosato-y-tirar-decreto-presidencial/?fbclid=IwAR0vW67EZE5-g6TkA94_k0zg2d43U7KlpX_XxI3eJy6E-iUZylvZVgC537o', metadata={'row': 114, 'source': 'C:\\\\github_repos\\\\mars_question_answering_app_rags\\\\data\\\\MARS_Benchmark_Diciembre (1).csv', 'start_index': 302}),\n",
       " Document(page_content='title: RT @contralinea: LO MÃ\\x81S LEÃ\\x8dDO | En MÃ©xico, el Poder Judicial de la FederaciÃ³n insiste en beneficiar a Bayer-Monsanto con permitir la introducciÃ³n masiva del carcinÃ³geno #glifosato al paÃ\\xads #ContralÃ\\xadnea #PeriodismodeInvestigaciÃ³n https://contralinea.com.mx/interno/semana/tribunal-insiste-en-aprobar-el-glifosato-y-tirar-decreto-presidencial/?fbclid=IwAR0vW67EZE5-g6TkA94_k0zg2d43U7KlpX_XxI3eJy6E-iUZylvZVgC537o', metadata={'row': 192, 'source': 'C:\\\\github_repos\\\\mars_question_answering_app_rags\\\\data\\\\MARS_Benchmark_Diciembre (1).csv', 'start_index': 320})]"
      ]
     },
     "execution_count": 31,
     "metadata": {},
     "output_type": "execute_result"
    }
   ],
   "source": [
    "docs = vectordb.similarity_search(question,k=3)\n",
    "docs"
   ]
  },
  {
   "cell_type": "markdown",
   "metadata": {},
   "source": [
    "### **Retrieval with MMR (Maximal Marginal Relevance)**"
   ]
  },
  {
   "cell_type": "markdown",
   "metadata": {},
   "source": [
    "#### Semantic Search (SS) VS Maximal Marginal Relevance (MMR)"
   ]
  },
  {
   "cell_type": "markdown",
   "metadata": {},
   "source": [
    "#### Load a Persist VectorDB (Chroma - AI-Native Open-Source Embedding Database)"
   ]
  },
  {
   "cell_type": "code",
   "execution_count": 32,
   "metadata": {},
   "outputs": [],
   "source": [
    "vectordb = Chroma(\n",
    "    persist_directory=persist_directory,\n",
    "    embedding_function=embedding\n",
    ")"
   ]
  },
  {
   "cell_type": "code",
   "execution_count": 33,
   "metadata": {},
   "outputs": [
    {
     "data": {
      "text/plain": [
       "[Document(page_content='Mention Content: @SCJN SIEMPRE A FAVOR DE EMPRESAS EXTRANJERAS https://x.com/contralinea/status/1741610337135186198?s=20 RT @contralinea: LO MÃ\\x81S LEÃ\\x8dDO | En MÃ©xico, el Poder Judicial de la FederaciÃ³n insiste en beneficiar a Bayer-Monsanto con permitir la introducciÃ³n masiva del carcinÃ³geno #glifosato al paÃ\\xads #ContralÃ\\xadnea #PeriodismodeInvestigaciÃ³n', metadata={'row': 293, 'source': 'C:\\\\github_repos\\\\mars_question_answering_app_rags\\\\data\\\\MARS_Benchmark_Diciembre (1).csv', 'start_index': 854}),\n",
       " Document(page_content='title: RT @contralinea: LO MÃ\\x81S LEÃ\\x8dDO | En MÃ©xico, el Poder Judicial de la FederaciÃ³n insiste en beneficiar a Bayer-Monsanto con permitir la introducciÃ³n masiva del carcinÃ³geno #glifosato al paÃ\\xads #ContralÃ\\xadnea #PeriodismodeInvestigaciÃ³n https://contralinea.com.mx/interno/semana/tribunal-insiste-en-aprobar-el-glifosato-y-tirar-decreto-presidencial/?fbclid=IwAR0vW67EZE5-g6TkA94_k0zg2d43U7KlpX_XxI3eJy6E-iUZylvZVgC537o', metadata={'row': 114, 'source': 'C:\\\\github_repos\\\\mars_question_answering_app_rags\\\\data\\\\MARS_Benchmark_Diciembre (1).csv', 'start_index': 302}),\n",
       " Document(page_content='title: RT @contralinea: LO MÃ\\x81S LEÃ\\x8dDO | En MÃ©xico, el Poder Judicial de la FederaciÃ³n insiste en beneficiar a Bayer-Monsanto con permitir la introducciÃ³n masiva del carcinÃ³geno #glifosato al paÃ\\xads #ContralÃ\\xadnea #PeriodismodeInvestigaciÃ³n https://contralinea.com.mx/interno/semana/tribunal-insiste-en-aprobar-el-glifosato-y-tirar-decreto-presidencial/?fbclid=IwAR0vW67EZE5-g6TkA94_k0zg2d43U7KlpX_XxI3eJy6E-iUZylvZVgC537o', metadata={'row': 192, 'source': 'C:\\\\github_repos\\\\mars_question_answering_app_rags\\\\data\\\\MARS_Benchmark_Diciembre (1).csv', 'start_index': 320})]"
      ]
     },
     "execution_count": 33,
     "metadata": {},
     "output_type": "execute_result"
    }
   ],
   "source": [
    "docs_ss = vectordb.similarity_search(question,k=3)\n",
    "docs_ss"
   ]
  },
  {
   "cell_type": "code",
   "execution_count": 34,
   "metadata": {},
   "outputs": [
    {
     "data": {
      "text/plain": [
       "[Document(page_content='Mention Content: @SCJN SIEMPRE A FAVOR DE EMPRESAS EXTRANJERAS https://x.com/contralinea/status/1741610337135186198?s=20 RT @contralinea: LO MÃ\\x81S LEÃ\\x8dDO | En MÃ©xico, el Poder Judicial de la FederaciÃ³n insiste en beneficiar a Bayer-Monsanto con permitir la introducciÃ³n masiva del carcinÃ³geno #glifosato al paÃ\\xads #ContralÃ\\xadnea #PeriodismodeInvestigaciÃ³n', metadata={'row': 293, 'source': 'C:\\\\github_repos\\\\mars_question_answering_app_rags\\\\data\\\\MARS_Benchmark_Diciembre (1).csv', 'start_index': 854}),\n",
       " Document(page_content='title: RT @contralinea: LO MÃ\\x81S LEÃ\\x8dDO | En MÃ©xico, el Poder Judicial de la FederaciÃ³n insiste en beneficiar a Bayer-Monsanto con permitir la introducciÃ³n masiva del carcinÃ³geno #glifosato al paÃ\\xads #ContralÃ\\xadnea #PeriodismodeInvestigaciÃ³n https://contralinea.com.mx/interno/semana/tribunal-insiste-en-aprobar-el-glifosato-y-tirar-decreto-presidencial/?fbclid=IwAR0vW67EZE5-g6TkA94_k0zg2d43U7KlpX_XxI3eJy6E-iUZylvZVgC537o', metadata={'row': 114, 'source': 'C:\\\\github_repos\\\\mars_question_answering_app_rags\\\\data\\\\MARS_Benchmark_Diciembre (1).csv', 'start_index': 302}),\n",
       " Document(page_content='title: RT @contralinea: LO MÃ\\x81S LEÃ\\x8dDO | En MÃ©xico, el Poder Judicial de la FederaciÃ³n insiste en beneficiar a Bayer-Monsanto con permitir la introducciÃ³n masiva del carcinÃ³geno #glifosato al paÃ\\xads #ContralÃ\\xadnea #PeriodismodeInvestigaciÃ³n https://contralinea.com.mx/interno/semana/tribunal-insiste-en-aprobar-el-glifosato-y-tirar-decreto-presidencial/?fbclid=IwAR0vW67EZE5-g6TkA94_k0zg2d43U7KlpX_XxI3eJy6E-iUZylvZVgC537o', metadata={'row': 119, 'source': 'C:\\\\github_repos\\\\mars_question_answering_app_rags\\\\data\\\\MARS_Benchmark_Diciembre (1).csv', 'start_index': 304})]"
      ]
     },
     "execution_count": 34,
     "metadata": {},
     "output_type": "execute_result"
    }
   ],
   "source": [
    "docs_mmr = vectordb.max_marginal_relevance_search(question,k=3)\n",
    "docs_mmr"
   ]
  },
  {
   "cell_type": "markdown",
   "metadata": {},
   "source": [
    "### **RAGs For Question Answering (Q&A)**"
   ]
  },
  {
   "cell_type": "markdown",
   "metadata": {},
   "source": [
    "### Using LangChain Default Prompt"
   ]
  },
  {
   "cell_type": "code",
   "execution_count": 35,
   "metadata": {},
   "outputs": [
    {
     "name": "stderr",
     "output_type": "stream",
     "text": [
      "c:\\anaconda3\\envs\\mars\\lib\\site-packages\\langchain_core\\_api\\deprecation.py:117: LangChainDeprecationWarning: The class `langchain_community.chat_models.openai.ChatOpenAI` was deprecated in langchain-community 0.0.10 and will be removed in 0.2.0. An updated version of the class exists in the langchain-openai package and should be used instead. To use it run `pip install -U langchain-openai` and import as `from langchain_openai import ChatOpenAI`.\n",
      "  warn_deprecated(\n"
     ]
    }
   ],
   "source": [
    "llm_name = \"gpt-3.5-turbo\" # The Model Can Be Changed As Required\n",
    "\n",
    "llm = ChatOpenAI(model_name=llm_name, temperature=1)"
   ]
  },
  {
   "cell_type": "code",
   "execution_count": 36,
   "metadata": {},
   "outputs": [],
   "source": [
    "qa_chain_default = RetrievalQA.from_chain_type(\n",
    "    llm,\n",
    "    retriever=vectordb.as_retriever(search_kwargs={\"k\":3}), # The 'k' Value Can Be Increased to Improve The RetrievalQA\n",
    "    chain_type=\"stuff\",\n",
    "    return_source_documents=True\n",
    ")"
   ]
  },
  {
   "cell_type": "code",
   "execution_count": 37,
   "metadata": {},
   "outputs": [
    {
     "name": "stderr",
     "output_type": "stream",
     "text": [
      "c:\\anaconda3\\envs\\mars\\lib\\site-packages\\langchain_core\\_api\\deprecation.py:117: LangChainDeprecationWarning: The function `__call__` was deprecated in LangChain 0.1.0 and will be removed in 0.2.0. Use invoke instead.\n",
      "  warn_deprecated(\n"
     ]
    },
    {
     "name": "stdout",
     "output_type": "stream",
     "text": [
      "\n",
      "\n",
      "\u001b[1m> Entering new RetrievalQA chain...\u001b[0m\n",
      "\n",
      "\n",
      "\u001b[1m> Entering new StuffDocumentsChain chain...\u001b[0m\n",
      "\n",
      "\n",
      "\u001b[1m> Entering new LLMChain chain...\u001b[0m\n",
      "Prompt after formatting:\n",
      "\u001b[32;1m\u001b[1;3mSystem: Use the following pieces of context to answer the user's question. \n",
      "If you don't know the answer, just say that you don't know, don't try to make up an answer.\n",
      "----------------\n",
      "Mention Content: RT @contralinea: LO MÃS LEÃDO | En MÃ©xico, el Poder Judicial de la FederaciÃ³n insiste en beneficiar a Bayer-Monsanto con permitir la introducciÃ³n masiva del carcinÃ³geno #glifosato al paÃ­s #ContralÃ­nea #PeriodismodeInvestigaciÃ³n https://contralinea.com.mx/interno/semana/tribunal-insiste-en-aprobar-el-glifosato-y-tirar-decreto-presidencial/?fbclid=IwAR0vW67EZE5-g6TkA94_k0zg2d43U7KlpX_XxI3eJy6E-iUZylvZVgC537o\n",
      "Topics: MARS _Benchmark\n",
      "Subtopics: Bayer\n",
      "Classifiers: \n",
      "Classifiers tags:\n",
      "\n",
      "Mention Content: RT @contralinea: LO MÃS LEÃDO | En MÃ©xico, el Poder Judicial de la FederaciÃ³n insiste en beneficiar a Bayer-Monsanto con permitir la introducciÃ³n masiva del carcinÃ³geno #glifosato al paÃ­s #ContralÃ­nea #PeriodismodeInvestigaciÃ³n https://contralinea.com.mx/interno/semana/tribunal-insiste-en-aprobar-el-glifosato-y-tirar-decreto-presidencial/?fbclid=IwAR0vW67EZE5-g6TkA94_k0zg2d43U7KlpX_XxI3eJy6E-iUZylvZVgC537o\n",
      "Topics: MARS _Benchmark\n",
      "Subtopics: Bayer\n",
      "Classifiers: \n",
      "Classifiers tags:\n",
      "\n",
      "Mention Content: RT @contralinea: LO MÃS LEÃDO | En MÃ©xico, el Poder Judicial de la FederaciÃ³n insiste en beneficiar a Bayer-Monsanto con permitir la introducciÃ³n masiva del carcinÃ³geno #glifosato al paÃ­s #ContralÃ­nea #PeriodismodeInvestigaciÃ³n https://contralinea.com.mx/interno/semana/tribunal-insiste-en-aprobar-el-glifosato-y-tirar-decreto-presidencial/?fbclid=IwAR0vW67EZE5-g6TkA94_k0zg2d43U7KlpX_XxI3eJy6E-iUZylvZVgC537o\n",
      "Topics: MARS _Benchmark\n",
      "Subtopics: Bayer\n",
      "Classifiers: \n",
      "Classifiers tags:\n",
      "Human: Explicame de forma precisa, resumida y muy concreta que se dice sobre Bayer-Monsanto?\u001b[0m\n",
      "\n",
      "\u001b[1m> Finished chain.\u001b[0m\n",
      "\n",
      "\u001b[1m> Finished chain.\u001b[0m\n",
      "\n",
      "\u001b[1m> Finished chain.\u001b[0m\n"
     ]
    },
    {
     "data": {
      "text/plain": [
       "{'query': 'Explicame de forma precisa, resumida y muy concreta que se dice sobre Bayer-Monsanto?',\n",
       " 'result': 'Según el artículo mencionado, el Poder Judicial de la Federación en México está insistiendo en permitir la introducción masiva del carcinógeno glifosato al país, lo cual beneficiaría a Bayer-Monsanto. Sin embargo, no se proporcionan más detalles sobre las acciones específicas de Bayer-Monsanto ni sobre las implicaciones de la introducción de glifosato en México.',\n",
       " 'source_documents': [Document(page_content='Mention Content: RT @contralinea: LO MÃ\\x81S LEÃ\\x8dDO | En MÃ©xico, el Poder Judicial de la FederaciÃ³n insiste en beneficiar a Bayer-Monsanto con permitir la introducciÃ³n masiva del carcinÃ³geno #glifosato al paÃ\\xads #ContralÃ\\xadnea #PeriodismodeInvestigaciÃ³n https://contralinea.com.mx/interno/semana/tribunal-insiste-en-aprobar-el-glifosato-y-tirar-decreto-presidencial/?fbclid=IwAR0vW67EZE5-g6TkA94_k0zg2d43U7KlpX_XxI3eJy6E-iUZylvZVgC537o\\nTopics: MARS _Benchmark\\nSubtopics: Bayer\\nClassifiers: \\nClassifiers tags:', metadata={'row': 106, 'source': 'C:\\\\github_repos\\\\mars_question_answering_app_rags\\\\data\\\\MARS_Benchmark_Diciembre (1).csv', 'start_index': 753}),\n",
       "  Document(page_content='Mention Content: RT @contralinea: LO MÃ\\x81S LEÃ\\x8dDO | En MÃ©xico, el Poder Judicial de la FederaciÃ³n insiste en beneficiar a Bayer-Monsanto con permitir la introducciÃ³n masiva del carcinÃ³geno #glifosato al paÃ\\xads #ContralÃ\\xadnea #PeriodismodeInvestigaciÃ³n https://contralinea.com.mx/interno/semana/tribunal-insiste-en-aprobar-el-glifosato-y-tirar-decreto-presidencial/?fbclid=IwAR0vW67EZE5-g6TkA94_k0zg2d43U7KlpX_XxI3eJy6E-iUZylvZVgC537o\\nTopics: MARS _Benchmark\\nSubtopics: Bayer\\nClassifiers: \\nClassifiers tags:', metadata={'row': 193, 'source': 'C:\\\\github_repos\\\\mars_question_answering_app_rags\\\\data\\\\MARS_Benchmark_Diciembre (1).csv', 'start_index': 735}),\n",
       "  Document(page_content='Mention Content: RT @contralinea: LO MÃ\\x81S LEÃ\\x8dDO | En MÃ©xico, el Poder Judicial de la FederaciÃ³n insiste en beneficiar a Bayer-Monsanto con permitir la introducciÃ³n masiva del carcinÃ³geno #glifosato al paÃ\\xads #ContralÃ\\xadnea #PeriodismodeInvestigaciÃ³n https://contralinea.com.mx/interno/semana/tribunal-insiste-en-aprobar-el-glifosato-y-tirar-decreto-presidencial/?fbclid=IwAR0vW67EZE5-g6TkA94_k0zg2d43U7KlpX_XxI3eJy6E-iUZylvZVgC537o\\nTopics: MARS _Benchmark\\nSubtopics: Bayer\\nClassifiers: \\nClassifiers tags:', metadata={'row': 299, 'source': 'C:\\\\github_repos\\\\mars_question_answering_app_rags\\\\data\\\\MARS_Benchmark_Diciembre (1).csv', 'start_index': 718})]}"
      ]
     },
     "execution_count": 37,
     "metadata": {},
     "output_type": "execute_result"
    }
   ],
   "source": [
    "# Example 2\n",
    "question = \"Explicame de forma precisa, resumida y muy concreta que se dice sobre Bayer-Monsanto?\"\n",
    "\n",
    "result = qa_chain_default({\"query\": question})\n",
    "result"
   ]
  },
  {
   "cell_type": "code",
   "execution_count": 38,
   "metadata": {},
   "outputs": [
    {
     "name": "stdout",
     "output_type": "stream",
     "text": [
      "Según el artículo mencionado, el Poder Judicial de la Federación en México está insistiendo en permitir la introducción masiva del carcinógeno glifosato al país, lo cual beneficiaría a Bayer-Monsanto. Sin embargo, no se proporcionan más detalles sobre las acciones específicas de Bayer-Monsanto ni sobre las implicaciones de la introducción de glifosato en México.\n"
     ]
    }
   ],
   "source": [
    "print(result.get(\"result\"))"
   ]
  },
  {
   "cell_type": "code",
   "execution_count": 39,
   "metadata": {},
   "outputs": [],
   "source": [
    "def pretty_print(text, words_per_line=15):\n",
    "    words = text.split()\n",
    "\n",
    "\n",
    "    for i in range(0, len(words), words_per_line):\n",
    "\n",
    "        line = ' '.join(words[i:i+words_per_line])\n",
    "        print(line)"
   ]
  },
  {
   "cell_type": "code",
   "execution_count": 40,
   "metadata": {},
   "outputs": [
    {
     "name": "stdout",
     "output_type": "stream",
     "text": [
      "Según el artículo mencionado, el Poder Judicial de la Federación en México está insistiendo en\n",
      "permitir la introducción masiva del carcinógeno glifosato al país, lo cual beneficiaría a Bayer-Monsanto. Sin\n",
      "embargo, no se proporcionan más detalles sobre las acciones específicas de Bayer-Monsanto ni sobre las\n",
      "implicaciones de la introducción de glifosato en México.\n"
     ]
    }
   ],
   "source": [
    "pretty_print(result.get(\"result\"))"
   ]
  },
  {
   "cell_type": "markdown",
   "metadata": {},
   "source": [
    "### Other Examples"
   ]
  },
  {
   "cell_type": "code",
   "execution_count": null,
   "metadata": {},
   "outputs": [],
   "source": [
    "# Example 3\n",
    "question = \"Genera 5 bullets más importantes sobre MARS y la sustentabilidad, por favor?\"\n",
    "\n",
    "result = qa_chain_default({\"query\": question})\n",
    "result"
   ]
  },
  {
   "cell_type": "code",
   "execution_count": null,
   "metadata": {},
   "outputs": [],
   "source": [
    "print(result.get(\"result\"))"
   ]
  },
  {
   "cell_type": "code",
   "execution_count": null,
   "metadata": {},
   "outputs": [],
   "source": [
    "pretty_print(result.get(\"result\"))"
   ]
  },
  {
   "cell_type": "code",
   "execution_count": null,
   "metadata": {},
   "outputs": [],
   "source": [
    "# Example 4\n",
    "question = \"Por favor explicame aspectos negativos que se aborden en todo el documento sobre Nestlé, despliega la salida en formato de bullets.\"\n",
    "\n",
    "result = qa_chain_default({\"query\": question})\n",
    "result"
   ]
  },
  {
   "cell_type": "code",
   "execution_count": null,
   "metadata": {},
   "outputs": [],
   "source": [
    "print(result.get(\"result\"))"
   ]
  },
  {
   "cell_type": "code",
   "execution_count": null,
   "metadata": {},
   "outputs": [],
   "source": [
    "pretty_print(result.get(\"result\"))"
   ]
  },
  {
   "cell_type": "code",
   "execution_count": null,
   "metadata": {},
   "outputs": [],
   "source": [
    "# Example 5\n",
    "question = \"Por favor explicame aspectos negativos que se aborden en todo el documento sobre Nestlé, despliega la salida en formato de bullets. Para esta respuesta considera la columna Sentiment del documento original\"\n",
    "\n",
    "result = qa_chain_default({\"query\": question})\n",
    "result"
   ]
  },
  {
   "cell_type": "code",
   "execution_count": null,
   "metadata": {},
   "outputs": [],
   "source": [
    "print(result.get(\"result\"))"
   ]
  },
  {
   "cell_type": "code",
   "execution_count": null,
   "metadata": {},
   "outputs": [],
   "source": [
    "pretty_print(result.get(\"result\"))"
   ]
  }
 ],
 "metadata": {
  "kernelspec": {
   "display_name": "mars",
   "language": "python",
   "name": "python3"
  },
  "language_info": {
   "codemirror_mode": {
    "name": "ipython",
    "version": 3
   },
   "file_extension": ".py",
   "mimetype": "text/x-python",
   "name": "python",
   "nbconvert_exporter": "python",
   "pygments_lexer": "ipython3",
   "version": "3.10.0"
  }
 },
 "nbformat": 4,
 "nbformat_minor": 2
}
